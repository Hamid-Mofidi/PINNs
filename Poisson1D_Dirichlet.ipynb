{
  "nbformat": 4,
  "nbformat_minor": 0,
  "metadata": {
    "colab": {
      "provenance": [],
      "authorship_tag": "ABX9TyPIeByqp+9knhex0USReaBn",
      "include_colab_link": true
    },
    "kernelspec": {
      "name": "python3",
      "display_name": "Python 3"
    },
    "language_info": {
      "name": "python"
    }
  },
  "cells": [
    {
      "cell_type": "markdown",
      "metadata": {
        "id": "view-in-github",
        "colab_type": "text"
      },
      "source": [
        "<a href=\"https://colab.research.google.com/github/Hamid-Mofidi/PINNs/blob/main/Poisson1D_Dirichlet.ipynb\" target=\"_parent\"><img src=\"https://colab.research.google.com/assets/colab-badge.svg\" alt=\"Open In Colab\"/></a>"
      ]
    },
    {
      "cell_type": "markdown",
      "source": [
        "# Laplace operator:  $$Δu = u_{xx} + u_{yy}$$\n",
        "\n",
        "# Harmonic functions: $$ Δ u = 0$$\n",
        "\n",
        "# Poisson equation: $$ Δ u = f(x)$$\n",
        "\n",
        "# Let's solve the following Poisson equation:  $$Δu = -π^2 \\sin(πx) $$\n",
        "\n",
        "Boundary conditions: $u(-1) = u(1) = 0$\n",
        "\n",
        "# The exact solution is : $$ u(x) = \\sin(π x)$$"
      ],
      "metadata": {
        "id": "-5j-HspbDBuX"
      }
    },
    {
      "cell_type": "code",
      "execution_count": 1,
      "metadata": {
        "colab": {
          "base_uri": "https://localhost:8080/"
        },
        "id": "s2xmcTI0opJi",
        "outputId": "6a5e0c46-40d2-4c11-b85e-6dd078c832c2"
      },
      "outputs": [
        {
          "output_type": "stream",
          "name": "stdout",
          "text": [
            "Collecting pyDOE\n",
            "  Downloading pyDOE-0.3.8.zip (22 kB)\n",
            "  Preparing metadata (setup.py) ... \u001b[?25l\u001b[?25hdone\n",
            "Requirement already satisfied: numpy in /usr/local/lib/python3.10/dist-packages (from pyDOE) (1.23.5)\n",
            "Requirement already satisfied: scipy in /usr/local/lib/python3.10/dist-packages (from pyDOE) (1.11.4)\n",
            "Building wheels for collected packages: pyDOE\n",
            "  Building wheel for pyDOE (setup.py) ... \u001b[?25l\u001b[?25hdone\n",
            "  Created wheel for pyDOE: filename=pyDOE-0.3.8-py3-none-any.whl size=18168 sha256=c61bbcd8163a3d5e79a1c2422811ac0d2297585c30bd668788ad856fea9cb061\n",
            "  Stored in directory: /root/.cache/pip/wheels/ce/b6/d7/c6b64746dba6433c593e471e0ac3acf4f36040456d1d160d17\n",
            "Successfully built pyDOE\n",
            "Installing collected packages: pyDOE\n",
            "Successfully installed pyDOE-0.3.8\n"
          ]
        }
      ],
      "source": [
        " ! pip install pyDOE"
      ]
    },
    {
      "cell_type": "code",
      "source": [
        "import torch\n",
        "import torch.autograd as autograd         # computation graph\n",
        "from torch import Tensor                  # tensor node in the computation graph\n",
        "import torch.nn as nn                     # neural networks\n",
        "import torch.optim as optim               # optimizers e.g. gradient descent, ADAM, etc.\n",
        "\n",
        "import matplotlib.pyplot as plt\n",
        "import matplotlib.gridspec as gridspec\n",
        "from mpl_toolkits.axes_grid1 import make_axes_locatable\n",
        "from mpl_toolkits.mplot3d import Axes3D\n",
        "import matplotlib.ticker\n",
        "from sklearn.model_selection import train_test_split\n",
        "\n",
        "import numpy as np\n",
        "import time\n",
        "from pyDOE import lhs         #Latin Hypercube Sampling\n",
        "import scipy.io\n",
        "\n",
        "#Set default dtype to float32\n",
        "torch.set_default_dtype(torch.float)\n",
        "\n",
        "#PyTorch random number generator\n",
        "torch.manual_seed(1234)\n",
        "\n",
        "# Random number generators in other libraries\n",
        "np.random.seed(1234)\n",
        "\n",
        "# Device configuration\n",
        "device = torch.device('cuda' if torch.cuda.is_available() else 'cpu')\n",
        "\n",
        "print(device)\n",
        "\n",
        "if device == 'cuda':\n",
        "    print(torch.cuda.get_device_name())"
      ],
      "metadata": {
        "colab": {
          "base_uri": "https://localhost:8080/"
        },
        "id": "zbZfm6GdozUv",
        "outputId": "473e031d-0ce5-4c29-9580-ebf8a6177fb6"
      },
      "execution_count": 2,
      "outputs": [
        {
          "output_type": "stream",
          "name": "stdout",
          "text": [
            "cpu\n"
          ]
        }
      ]
    },
    {
      "cell_type": "markdown",
      "source": [
        "# Tunning Parameters\n"
      ],
      "metadata": {
        "id": "cVibt8Mno74c"
      }
    },
    {
      "cell_type": "code",
      "source": [
        "steps=5000\n",
        "lr=1e-3\n",
        "layers = np.array([1,50,50,20,50,50,1]) #5 hidden layers\n",
        "# To generate new data:\n",
        "min=-1\n",
        "max=1\n",
        "total_points=500\n",
        "#Nu: Number of training points (2 as we onlt have 2 boundaries), # Nf: Number of collocation points (Evaluate PDE)\n",
        "Nu=2\n",
        "Nf=250"
      ],
      "metadata": {
        "id": "n01hc9AjpCNc"
      },
      "execution_count": 3,
      "outputs": []
    },
    {
      "cell_type": "markdown",
      "source": [
        "# Functions"
      ],
      "metadata": {
        "id": "beXKxr-epGjg"
      }
    },
    {
      "cell_type": "code",
      "source": [
        "def f_BC(x):\n",
        "  return 1-torch.abs(x)\n",
        "def f_real(x):\n",
        "  return torch.sin(np.pi*x)\n",
        "def PDE(x):\n",
        "  return -1*(np.pi**2)*torch.sin(np.pi*x)"
      ],
      "metadata": {
        "id": "-pOPrUiUpDF3"
      },
      "execution_count": 4,
      "outputs": []
    },
    {
      "cell_type": "markdown",
      "source": [
        "# Neural Network:"
      ],
      "metadata": {
        "id": "pAtr93NSpPms"
      }
    },
    {
      "cell_type": "code",
      "source": [
        "class FCN(nn.Module):\n",
        "    ##Neural Network\n",
        "    def __init__(self,layers):\n",
        "        super().__init__() #call __init__ from parent class\n",
        "        'activation function'\n",
        "        self.activation = nn.Tanh()\n",
        "        'loss function'\n",
        "        self.loss_function = nn.MSELoss(reduction ='mean')\n",
        "        'Initialise neural network as a list using nn.Modulelist'\n",
        "        self.linears = nn.ModuleList([nn.Linear(layers[i], layers[i+1]) for i in range(len(layers)-1)])\n",
        "        self.iter = 0\n",
        "        'Xavier Normal Initialization'\n",
        "        # std = gain * sqrt(2/(input_dim+output_dim))\n",
        "        for i in range(len(layers)-1):\n",
        "\n",
        "            # weights from a normal distribution with\n",
        "            # Recommended gain value for tanh = 5/3?\n",
        "            nn.init.xavier_normal_(self.linears[i].weight.data, gain=1.0)\n",
        "\n",
        "            # set biases to zero\n",
        "            nn.init.zeros_(self.linears[i].bias.data)\n",
        "    'foward pass'\n",
        "    def forward(self,x):\n",
        "        if torch.is_tensor(x) != True:\n",
        "            x = torch.from_numpy(x)\n",
        "        a = x.float()\n",
        "        for i in range(len(layers)-2):\n",
        "            z = self.linears[i](a)\n",
        "            a = self.activation(z)\n",
        "        a = self.linears[-1](a)\n",
        "        return a\n",
        "    'Loss Functions'\n",
        "    #Loss BC\n",
        "\n",
        "    def lossBC(self,x_BC,y_BC):\n",
        "      loss_BC=self.loss_function(self.forward(x_BC),y_BC)\n",
        "      return loss_BC\n",
        "    #Loss PDE\n",
        "    def lossPDE(self,x_PDE):\n",
        "      g=x_PDE.clone()\n",
        "      g.requires_grad=True #Enable differentiation\n",
        "      f=self.forward(g)\n",
        "      f_x=autograd.grad(f,g,torch.ones([x_PDE.shape[0],1]).to(device),retain_graph=True, create_graph=True)[0] #first derivative\n",
        "      f_xx=autograd.grad(f_x,g,torch.ones([x_PDE.shape[0],1]).to(device), create_graph=True)[0]#second derivative\n",
        "      return self.loss_function(f_xx,PDE(g))\n",
        "\n",
        "    def loss(self,x_BC,y_BC,x_PDE):\n",
        "      loss_bc=self.lossBC(x_BC,y_BC)\n",
        "      loss_pde=self.lossPDE(x_PDE)\n",
        "      return loss_bc+loss_pde"
      ],
      "metadata": {
        "id": "Va4QfdqIpKcZ"
      },
      "execution_count": 5,
      "outputs": []
    },
    {
      "cell_type": "markdown",
      "source": [
        "# Generate data"
      ],
      "metadata": {
        "id": "R6bv-P91paMM"
      }
    },
    {
      "cell_type": "code",
      "source": [
        "\n",
        "# get the analytical solution over the full domain\n",
        "x = torch.linspace(min,max,total_points).view(-1,1) #prepare to NN\n",
        "y = f_real(x)\n",
        "print(x.shape, y.shape)"
      ],
      "metadata": {
        "colab": {
          "base_uri": "https://localhost:8080/"
        },
        "id": "xPyuLAhCpbT_",
        "outputId": "d5d64b64-0eb2-45cb-ccd9-a3aa0513dcf3"
      },
      "execution_count": 6,
      "outputs": [
        {
          "output_type": "stream",
          "name": "stdout",
          "text": [
            "torch.Size([500, 1]) torch.Size([500, 1])\n"
          ]
        }
      ]
    },
    {
      "cell_type": "code",
      "source": [
        "\n",
        "fig, ax1 = plt.subplots()\n",
        "ax1.plot(x.detach().numpy(),y.detach().numpy(),color='blue',label='Real Function')\n",
        "#ax1.plot(x_train.detach().numpy(),yh.detach().numpy(),color='red',label='Pred_Train')\n",
        "ax1.set_xlabel('x',color='black')\n",
        "ax1.set_ylabel('f(x)',color='black')\n",
        "ax1.tick_params(axis='y', color='black')\n",
        "ax1.legend(loc = 'upper left')"
      ],
      "metadata": {
        "colab": {
          "base_uri": "https://localhost:8080/",
          "height": 466
        },
        "id": "YndhVPPepdho",
        "outputId": "2344e8e7-878e-47f0-d90d-4e2bb82b6552"
      },
      "execution_count": 7,
      "outputs": [
        {
          "output_type": "execute_result",
          "data": {
            "text/plain": [
              "<matplotlib.legend.Legend at 0x7aa6d4782410>"
            ]
          },
          "metadata": {},
          "execution_count": 7
        },
        {
          "output_type": "display_data",
          "data": {
            "text/plain": [
              "<Figure size 640x480 with 1 Axes>"
            ],
            "image/png": "[encoded data removed]"
          },
          "metadata": {}
        }
      ]
    },
    {
      "cell_type": "code",
      "source": [
        "#def get_training_data(x):\n",
        "#Nu: Number of training point, # Nf: Number of colloction points\n",
        "# Set Boundary conditions x=min & x= max\n",
        "BC_1=x[0,:]\n",
        "BC_2=x[-1,:]\n",
        "# Total Tpaining points BC1+BC2\n",
        "all_train=torch.vstack([BC_1,BC_2])\n",
        "#Select Nu points\n",
        "idx = np.random.choice(all_train.shape[0], Nu, replace=False)\n",
        "x_BC=all_train[idx]\n",
        "#Select Nf points\n",
        "# Latin Hypercube sampling for collocation points\n",
        "x_PDE = BC_1 + (BC_2-BC_1)*lhs(1,Nf)\n",
        "x_PDE = torch.vstack((x_PDE,x_BC))"
      ],
      "metadata": {
        "id": "CNYL5vympg_W"
      },
      "execution_count": 8,
      "outputs": []
    },
    {
      "cell_type": "code",
      "source": [
        "y_BC=f_BC(x_BC).to(device)"
      ],
      "metadata": {
        "id": "QSlkL9jjpk0e"
      },
      "execution_count": 9,
      "outputs": []
    },
    {
      "cell_type": "markdown",
      "source": [
        "# Train Neural Network"
      ],
      "metadata": {
        "id": "phWp5zFApp-b"
      }
    },
    {
      "cell_type": "code",
      "source": [
        "#Store tensors to GPU\n",
        "torch.manual_seed(123)\n",
        "x_PDE=x_PDE.float().to(device)\n",
        "x_BC=x_BC.to(device)\n",
        "#Create Model\n",
        "model = FCN(layers)\n",
        "print(model)\n",
        "model.to(device)\n",
        "params = list(model.parameters())\n",
        "optimizer = torch.optim.Adam(model.parameters(),lr=lr,amsgrad=False)\n",
        "start_time = time.time()"
      ],
      "metadata": {
        "colab": {
          "base_uri": "https://localhost:8080/"
        },
        "id": "7QtCLTEtpnf9",
        "outputId": "8ac84e11-fecb-4452-b813-81cc95d5f7c0"
      },
      "execution_count": 10,
      "outputs": [
        {
          "output_type": "stream",
          "name": "stdout",
          "text": [
            "FCN(\n",
            "  (activation): Tanh()\n",
            "  (loss_function): MSELoss()\n",
            "  (linears): ModuleList(\n",
            "    (0): Linear(in_features=1, out_features=50, bias=True)\n",
            "    (1): Linear(in_features=50, out_features=50, bias=True)\n",
            "    (2): Linear(in_features=50, out_features=20, bias=True)\n",
            "    (3): Linear(in_features=20, out_features=50, bias=True)\n",
            "    (4): Linear(in_features=50, out_features=50, bias=True)\n",
            "    (5): Linear(in_features=50, out_features=1, bias=True)\n",
            "  )\n",
            ")\n"
          ]
        }
      ]
    },
    {
      "cell_type": "code",
      "source": [
        "model.lossBC(x_BC,y_BC)"
      ],
      "metadata": {
        "colab": {
          "base_uri": "https://localhost:8080/"
        },
        "id": "Dn1qtEtZpvQh",
        "outputId": "66f059a4-8cd1-4d8a-cc90-d30a3ce595dd"
      },
      "execution_count": 11,
      "outputs": [
        {
          "output_type": "execute_result",
          "data": {
            "text/plain": [
              "tensor(0.0160, grad_fn=<MseLossBackward0>)"
            ]
          },
          "metadata": {},
          "execution_count": 11
        }
      ]
    },
    {
      "cell_type": "code",
      "source": [
        "for i in range(steps):\n",
        "    yh = model(x_PDE)\n",
        "    loss = model.loss(x_BC,y_BC,x_PDE)# use mean squared error\n",
        "    optimizer.zero_grad()\n",
        "    loss.backward()\n",
        "    optimizer.step()\n",
        "    if i%(steps/10)==0:\n",
        "      print(loss)"
      ],
      "metadata": {
        "colab": {
          "base_uri": "https://localhost:8080/"
        },
        "id": "5TKnak3hpynL",
        "outputId": "8a417fff-5388-4b3c-db6d-155b28168f96"
      },
      "execution_count": 12,
      "outputs": [
        {
          "output_type": "stream",
          "name": "stdout",
          "text": [
            "tensor(47.8740, grad_fn=<AddBackward0>)\n",
            "tensor(0.0155, grad_fn=<AddBackward0>)\n",
            "tensor(0.0031, grad_fn=<AddBackward0>)\n",
            "tensor(0.0112, grad_fn=<AddBackward0>)\n",
            "tensor(0.0007, grad_fn=<AddBackward0>)\n",
            "tensor(0.0006, grad_fn=<AddBackward0>)\n",
            "tensor(0.0002, grad_fn=<AddBackward0>)\n",
            "tensor(0.0002, grad_fn=<AddBackward0>)\n",
            "tensor(0.0002, grad_fn=<AddBackward0>)\n",
            "tensor(9.8674e-05, grad_fn=<AddBackward0>)\n"
          ]
        }
      ]
    },
    {
      "cell_type": "markdown",
      "source": [
        "# Plots:"
      ],
      "metadata": {
        "id": "shu9z1F-p6AI"
      }
    },
    {
      "cell_type": "code",
      "source": [
        "# Function\n",
        "yh=model(x.to(device))\n",
        "y=f_real(x)\n",
        "#Error\n",
        "print(model.lossBC(x.to(device),f_real(x).to(device)))"
      ],
      "metadata": {
        "colab": {
          "base_uri": "https://localhost:8080/"
        },
        "id": "V0JAW0Jxp2pg",
        "outputId": "0a62a1c1-f284-4b51-d5e8-047c0e6b3e03"
      },
      "execution_count": 13,
      "outputs": [
        {
          "output_type": "stream",
          "name": "stdout",
          "text": [
            "tensor(0.0001, grad_fn=<MseLossBackward0>)\n"
          ]
        }
      ]
    },
    {
      "cell_type": "code",
      "source": [
        "# Derivative\n",
        "g=x.to(device)\n",
        "g=g.clone()\n",
        "g.requires_grad=True #Enable differentiation\n",
        "f=model(g)\n",
        "f_x=autograd.grad(f,g,torch.ones([g.shape[0],1]).to(device),retain_graph=True, create_graph=True)[0]"
      ],
      "metadata": {
        "id": "ht35B3Lkp_WQ"
      },
      "execution_count": 14,
      "outputs": []
    },
    {
      "cell_type": "code",
      "source": [
        "# Detach from GPU\n",
        "y_plot=y.detach().numpy()\n",
        "yh_plot=yh.detach().cpu().numpy()\n",
        "f_x_plot=f_x.detach().cpu().numpy()"
      ],
      "metadata": {
        "id": "7sFZRwzJqBo_"
      },
      "execution_count": 15,
      "outputs": []
    },
    {
      "cell_type": "code",
      "source": [
        "# Plot\n",
        "fig, ax1 = plt.subplots()\n",
        "ax1.plot(x,y_plot,color='blue',label='Real u(x)')\n",
        "ax1.plot(x,yh_plot,color='red',label='Predicted u(x)')\n",
        "ax1.plot(x,f_x_plot,color='green',label='Computed u\\'(x)')\n",
        "ax1.set_xlabel('x',color='black')\n",
        "ax1.set_ylabel('f(x)',color='black')\n",
        "ax1.tick_params(axis='y', color='black')\n",
        "ax1.legend(loc = 'upper left')"
      ],
      "metadata": {
        "colab": {
          "base_uri": "https://localhost:8080/",
          "height": 466
        },
        "id": "JsXabX0MqGOu",
        "outputId": "e5776181-a7d4-408d-caf4-7a71199a739f"
      },
      "execution_count": 16,
      "outputs": [
        {
          "output_type": "execute_result",
          "data": {
            "text/plain": [
              "<matplotlib.legend.Legend at 0x7aa6beba0970>"
            ]
          },
          "metadata": {},
          "execution_count": 16
        },
        {
          "output_type": "display_data",
          "data": {
            "text/plain": [
              "<Figure size 640x480 with 1 Axes>"
            ],
            "image/png": "[encoded data removed]"
          },
          "metadata": {}
        }
      ]
    }
  ]
}